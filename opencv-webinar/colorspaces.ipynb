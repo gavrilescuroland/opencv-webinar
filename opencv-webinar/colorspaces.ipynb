{
 "cells": [
  {
   "cell_type": "markdown",
   "metadata": {},
   "source": [
    "# Colorspaces"
   ]
  },
  {
   "cell_type": "code",
   "execution_count": 1,
   "metadata": {},
   "outputs": [],
   "source": [
    "import cv2 as cv\n",
    "import numpy as np\n",
    "\n",
    "# start camera\n",
    "cap = cv.VideoCapture(0)\n",
    "\n",
    "while(1):\n",
    "    _, frame = cap.read()\n",
    "    \n",
    "    # Convert BGR to HSV\n",
    "    hsv = cv.cvtColor(frame, cv.COLOR_BGR2HSV)\n",
    "    \n",
    "    # define range of blue color in HSV\n",
    "    lower_blue = np.array([110,20,20])\n",
    "    upper_blue = np.array([140,255,255])\n",
    "    \n",
    "#     # or convert from BGR (not as precise)\n",
    "#     blue = np.uint8((([255,0,0])))\n",
    "#     blue = cv.cvtColor(blue,cv.COLOR_BGR2HSV)\n",
    "\n",
    "    # Threshold the HSV image to get only blue colors\n",
    "    mask = cv.inRange(hsv, lower_blue, upper_blue)\n",
    "    \n",
    "    # Bitwise-AND mask and original image\n",
    "    res = cv.bitwise_and(frame,frame, mask= mask)\n",
    "\n",
    "    cv.imshow('original',frame)\n",
    "    cv.imshow('mask',mask)\n",
    "    cv.imshow('result',res)\n",
    "    \n",
    "    k = cv.waitKey(5) & 0xFF\n",
    "    if k == 27: break\n",
    "\n",
    "cv.destroyAllWindows()\n",
    "for i in range(5): cv.waitKey(1)"
   ]
  },
  {
   "cell_type": "code",
   "execution_count": null,
   "metadata": {},
   "outputs": [],
   "source": []
  }
 ],
 "metadata": {
  "kernelspec": {
   "display_name": "Python 3",
   "language": "python",
   "name": "python3"
  },
  "language_info": {
   "codemirror_mode": {
    "name": "ipython",
    "version": 3
   },
   "file_extension": ".py",
   "mimetype": "text/x-python",
   "name": "python",
   "nbconvert_exporter": "python",
   "pygments_lexer": "ipython3",
   "version": "3.6.7"
  }
 },
 "nbformat": 4,
 "nbformat_minor": 2
}
