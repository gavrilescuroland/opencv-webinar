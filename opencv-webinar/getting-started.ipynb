{
 "cells": [
  {
   "cell_type": "markdown",
   "metadata": {},
   "source": [
    "# Getting Started"
   ]
  },
  {
   "cell_type": "markdown",
   "metadata": {},
   "source": [
    "## Working with Images"
   ]
  },
  {
   "cell_type": "code",
   "execution_count": 1,
   "metadata": {},
   "outputs": [
    {
     "data": {
      "text/plain": [
       "<Figure size 640x480 with 1 Axes>"
      ]
     },
     "metadata": {},
     "output_type": "display_data"
    }
   ],
   "source": [
    "import numpy as np\n",
    "import cv2 as cv\n",
    "from matplotlib import pyplot as plt\n",
    "\n",
    "# load image (and resize)\n",
    "img = cv.imread('pic.jpg',0) # 0 - grayscale\n",
    "img = cv.resize(img,(0,0),fx=0.5,fy=0.5) \n",
    "\n",
    "cv.imshow('spider',img)\n",
    "\n",
    "# wait for a key to be pressed\n",
    "k = cv.waitKey(0) \n",
    "\n",
    "# press 's' to save \n",
    "if k == ord('s'):\n",
    "    cv.imwrite('grey.jpg',img)\n",
    "\n",
    "# exit\n",
    "cv.destroyAllWindows()\n",
    "for i in range(5): cv.waitKey(1) # mac freeze fix\n",
    "    \n",
    "# visualize \n",
    "plt.imshow(img, cmap = 'gray', interpolation = 'bicubic')\n",
    "plt.xticks([]), plt.yticks([])  # hide ticks\n",
    "plt.show()"
   ]
  },
  {
   "cell_type": "markdown",
   "metadata": {},
   "source": [
    "## Working with Video Capture"
   ]
  },
  {
   "cell_type": "code",
   "execution_count": 2,
   "metadata": {},
   "outputs": [],
   "source": [
    "import numpy as np\n",
    "import cv2 as cv\n",
    "\n",
    "# create VideoCapture(camera) object\n",
    "cap = cv.VideoCapture(0)\n",
    "\n",
    "# ret:boolean, frame:matrix\n",
    "while (cap.isOpened):\n",
    "    ret, frame = cap.read() # capture frame-by-frame   \n",
    "    gray = cv.cvtColor(frame, cv.COLOR_BGR2GRAY) # make it gray\n",
    "    cv.imshow('frame',gray) # display\n",
    "\n",
    "    if cv.waitKey(1) & 0xFF == ord('q'): break\n",
    "        \n",
    "cap.release()\n",
    "cv.destroyAllWindows()\n",
    "for i in range(5): cv.waitKey(1)"
   ]
  },
  {
   "cell_type": "markdown",
   "metadata": {},
   "source": [
    "## Saving Videos Locally"
   ]
  },
  {
   "cell_type": "code",
   "execution_count": 4,
   "metadata": {},
   "outputs": [],
   "source": [
    "import numpy as np\n",
    "import cv2 as cv\n",
    "\n",
    "# open camera\n",
    "cap = cv.VideoCapture(0)\n",
    "\n",
    "# resize video window\n",
    "ret = cap.set(cv.CAP_PROP_FRAME_WIDTH,320)\n",
    "ret = cap.set(cv.CAP_PROP_FRAME_HEIGHT,240)\n",
    "\n",
    "# define codec\n",
    "fourcc = cv.VideoWriter_fourcc(*'MJPG') \n",
    "\n",
    "# start recording\n",
    "out = cv.VideoWriter('output.avi',fourcc, 20.0, (640,480))\n",
    "\n",
    "while(cap.isOpened()):\n",
    "    ret, frame = cap.read()\n",
    "    \n",
    "    if ret == True:\n",
    "        frame = cv.flip(frame,0) # flip frame\n",
    "        out.write(frame)\n",
    "        cv.imshow('frame',frame)\n",
    "        if cv.waitKey(1) & 0xFF == ord('q'): break\n",
    "    else:\n",
    "        break\n",
    "        \n",
    "\n",
    "cap.release()\n",
    "out.release()\n",
    "cv.destroyAllWindows()\n",
    "for i in range(5): cv.waitKey(1)"
   ]
  },
  {
   "cell_type": "code",
   "execution_count": null,
   "metadata": {},
   "outputs": [],
   "source": []
  }
 ],
 "metadata": {
  "kernelspec": {
   "display_name": "Python 3",
   "language": "python",
   "name": "python3"
  },
  "language_info": {
   "codemirror_mode": {
    "name": "ipython",
    "version": 3
   },
   "file_extension": ".py",
   "mimetype": "text/x-python",
   "name": "python",
   "nbconvert_exporter": "python",
   "pygments_lexer": "ipython3",
   "version": "3.6.7"
  }
 },
 "nbformat": 4,
 "nbformat_minor": 2
}
